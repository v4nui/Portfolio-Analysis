{
 "cells": [
  {
   "cell_type": "markdown",
   "metadata": {},
   "source": [
    "<h1 style=\"color: #FF8C00;\">Portfolio Analysis: Python Challenge</h1>\n",
    "\n",
    "---\n",
    "\n",
    "**This challenge** represents a practical tech assignment designed to test your skills in portfolio analysis. Portfolio analysis is a systematic way to evaluate investment portfolios to optimize asset allocation and management. It involves a variety of financial metrics and visualizations to assess the performance and risk of different financial assets.\n",
    "\n",
    "- In this exercise, you will be required to perform a series of calculations and create visualizations to analyze a set of financial assets.\n",
    "- Your task is to develop the necessary code to accomplish each of these tasks effectively.\n",
    "- This challenge is an opportunity to demonstrate your ability to apply Python programming skills in a real-world financial context."
   ]
  },
  {
   "cell_type": "markdown",
   "metadata": {},
   "source": [
    "<h1 style=\"color: #FF8C00;\">Libraries</h1>"
   ]
  },
  {
   "cell_type": "code",
   "execution_count": 2,
   "metadata": {},
   "outputs": [],
   "source": [
    "import pandas as pd\n",
    "import numpy as np \n",
    "import matplotlib.pyplot as plt\n",
    "import seaborn as sns\n",
    "import scipy.stats as sts\n",
    "from scipy.stats import chi2_contingency\n",
    "from scipy.stats.contingency import association\n",
    "import datetime as dt\n",
    "\n",
    "pd.set_option('display.max_columns', None) # display all columns\n",
    "import warnings\n",
    "warnings.filterwarnings('ignore') # ignore warnings"
   ]
  },
  {
   "cell_type": "markdown",
   "metadata": {},
   "source": [
    "<h1 style=\"color: #FF8C00;\">Exercise 1: Data Loading and Price Charting</h1>\n",
    "\n",
    "---\n",
    "\n",
    "You are tasked with loading and analyzing financial data, which is foundational for effective portfolio management. Begin by loading the file named `asset_price_data.csv`, containing essential pricing information for various financial assets.\n",
    "\n",
    "Post data loading, your objective is to visualize this data through a time series graph.The integrity of your analysis depends heavily on your ability to visualize trends accurately while ensuring all asset price series begin at a uniform value."
   ]
  },
  {
   "cell_type": "markdown",
   "metadata": {},
   "source": [
    "<h3 style=\"color: #FF6347;\">Data Loading</h3>"
   ]
  },
  {
   "cell_type": "code",
   "execution_count": 3,
   "metadata": {},
   "outputs": [
    {
     "data": {
      "text/html": [
       "<div>\n",
       "<style scoped>\n",
       "    .dataframe tbody tr th:only-of-type {\n",
       "        vertical-align: middle;\n",
       "    }\n",
       "\n",
       "    .dataframe tbody tr th {\n",
       "        vertical-align: top;\n",
       "    }\n",
       "\n",
       "    .dataframe thead th {\n",
       "        text-align: right;\n",
       "    }\n",
       "</style>\n",
       "<table border=\"1\" class=\"dataframe\">\n",
       "  <thead>\n",
       "    <tr style=\"text-align: right;\">\n",
       "      <th></th>\n",
       "      <th>date</th>\n",
       "      <th>Asset1</th>\n",
       "      <th>Asset2</th>\n",
       "      <th>Asset3</th>\n",
       "      <th>Asset4</th>\n",
       "      <th>Asset5</th>\n",
       "    </tr>\n",
       "  </thead>\n",
       "  <tbody>\n",
       "    <tr>\n",
       "      <th>0</th>\n",
       "      <td>2019-01-02</td>\n",
       "      <td>231.5061</td>\n",
       "      <td>55.875</td>\n",
       "      <td>25.649222</td>\n",
       "      <td>302.93</td>\n",
       "      <td>50.89</td>\n",
       "    </tr>\n",
       "    <tr>\n",
       "      <th>1</th>\n",
       "      <td>2019-01-03</td>\n",
       "      <td>231.0356</td>\n",
       "      <td>54.977</td>\n",
       "      <td>25.503047</td>\n",
       "      <td>302.11</td>\n",
       "      <td>50.41</td>\n",
       "    </tr>\n",
       "    <tr>\n",
       "      <th>2</th>\n",
       "      <td>2019-01-04</td>\n",
       "      <td>230.4026</td>\n",
       "      <td>56.129</td>\n",
       "      <td>26.147133</td>\n",
       "      <td>301.77</td>\n",
       "      <td>51.38</td>\n",
       "    </tr>\n",
       "    <tr>\n",
       "      <th>3</th>\n",
       "      <td>2019-01-07</td>\n",
       "      <td>230.0543</td>\n",
       "      <td>56.838</td>\n",
       "      <td>25.955277</td>\n",
       "      <td>302.33</td>\n",
       "      <td>52.14</td>\n",
       "    </tr>\n",
       "    <tr>\n",
       "      <th>4</th>\n",
       "      <td>2019-01-08</td>\n",
       "      <td>229.7012</td>\n",
       "      <td>56.895</td>\n",
       "      <td>26.137997</td>\n",
       "      <td>303.42</td>\n",
       "      <td>52.13</td>\n",
       "    </tr>\n",
       "    <tr>\n",
       "      <th>...</th>\n",
       "      <td>...</td>\n",
       "      <td>...</td>\n",
       "      <td>...</td>\n",
       "      <td>...</td>\n",
       "      <td>...</td>\n",
       "      <td>...</td>\n",
       "    </tr>\n",
       "    <tr>\n",
       "      <th>778</th>\n",
       "      <td>2021-12-27</td>\n",
       "      <td>249.9207</td>\n",
       "      <td>103.956</td>\n",
       "      <td>38.820000</td>\n",
       "      <td>NaN</td>\n",
       "      <td>70.11</td>\n",
       "    </tr>\n",
       "    <tr>\n",
       "      <th>779</th>\n",
       "      <td>2021-12-28</td>\n",
       "      <td>249.9368</td>\n",
       "      <td>104.526</td>\n",
       "      <td>39.115000</td>\n",
       "      <td>NaN</td>\n",
       "      <td>70.03</td>\n",
       "    </tr>\n",
       "    <tr>\n",
       "      <th>780</th>\n",
       "      <td>2021-12-29</td>\n",
       "      <td>248.7215</td>\n",
       "      <td>104.360</td>\n",
       "      <td>38.855000</td>\n",
       "      <td>342.46</td>\n",
       "      <td>69.81</td>\n",
       "    </tr>\n",
       "    <tr>\n",
       "      <th>781</th>\n",
       "      <td>2021-12-30</td>\n",
       "      <td>248.5485</td>\n",
       "      <td>104.663</td>\n",
       "      <td>38.985000</td>\n",
       "      <td>342.55</td>\n",
       "      <td>69.91</td>\n",
       "    </tr>\n",
       "    <tr>\n",
       "      <th>782</th>\n",
       "      <td>2021-12-31</td>\n",
       "      <td>248.7545</td>\n",
       "      <td>104.106</td>\n",
       "      <td>39.005000</td>\n",
       "      <td>342.59</td>\n",
       "      <td>NaN</td>\n",
       "    </tr>\n",
       "  </tbody>\n",
       "</table>\n",
       "<p>783 rows × 6 columns</p>\n",
       "</div>"
      ],
      "text/plain": [
       "          date    Asset1   Asset2     Asset3  Asset4  Asset5\n",
       "0   2019-01-02  231.5061   55.875  25.649222  302.93   50.89\n",
       "1   2019-01-03  231.0356   54.977  25.503047  302.11   50.41\n",
       "2   2019-01-04  230.4026   56.129  26.147133  301.77   51.38\n",
       "3   2019-01-07  230.0543   56.838  25.955277  302.33   52.14\n",
       "4   2019-01-08  229.7012   56.895  26.137997  303.42   52.13\n",
       "..         ...       ...      ...        ...     ...     ...\n",
       "778 2021-12-27  249.9207  103.956  38.820000     NaN   70.11\n",
       "779 2021-12-28  249.9368  104.526  39.115000     NaN   70.03\n",
       "780 2021-12-29  248.7215  104.360  38.855000  342.46   69.81\n",
       "781 2021-12-30  248.5485  104.663  38.985000  342.55   69.91\n",
       "782 2021-12-31  248.7545  104.106  39.005000  342.59     NaN\n",
       "\n",
       "[783 rows x 6 columns]"
      ]
     },
     "execution_count": 3,
     "metadata": {},
     "output_type": "execute_result"
    }
   ],
   "source": [
    "# loading csv into pandas and directly converting time-series\n",
    "df_ai = pd.read_csv(r'asset_information_data.csv')\n",
    "df_ap = pd.read_csv(r'asset_price_data.csv', parse_dates=[\"date\"])\n",
    "df_pw = pd.read_csv(r'portfolio_weights.csv', parse_dates=[\"date\"])\n",
    "\n",
    "# initializing\n",
    "df_asset_info = df_ai.copy()\n",
    "df_asset_price = df_ap.copy()\n",
    "df_portfolio = df_pw.copy()\n",
    "\n",
    "df_asset_price"
   ]
  },
  {
   "cell_type": "markdown",
   "metadata": {},
   "source": [
    "<h3 style=\"color: #FF6347;\">Data exploration</h3>"
   ]
  },
  {
   "cell_type": "code",
   "execution_count": 4,
   "metadata": {},
   "outputs": [
    {
     "name": "stdout",
     "output_type": "stream",
     "text": [
      "Heads of assets info\n",
      "     Name        Family\n",
      "0  Asset1  Fixed Income\n",
      "1  Asset2  Fixed Income\n",
      "2  Asset3        Equity\n",
      "3  Asset4        Equity\n",
      "4  Asset5   Alternative\n",
      "Heads of assets price\n",
      "        date    Asset1  Asset2     Asset3  Asset4  Asset5\n",
      "0 2019-01-02  231.5061  55.875  25.649222  302.93   50.89\n",
      "1 2019-01-03  231.0356  54.977  25.503047  302.11   50.41\n",
      "2 2019-01-04  230.4026  56.129  26.147133  301.77   51.38\n",
      "Heads of portfolio weights\n",
      "        date    Asset1    Asset2    Asset3   Asset4    Asset5\n",
      "0 2019-01-02  0.225458  0.116255  0.265003  0.23031  0.162974\n",
      "1 2019-01-03  0.225458  0.116255  0.265003  0.23031  0.162974\n",
      "2 2019-01-04  0.225458  0.116255  0.265003  0.23031  0.162974\n",
      "\n",
      "asset information: (5, 2)\n",
      "asset price:(783, 6)\n",
      "portfolio weights: (783, 6)\n"
     ]
    }
   ],
   "source": [
    "print('Heads of assets info')\n",
    "print(df_asset_info.head(5))\n",
    "print('Heads of assets price')\n",
    "print(df_asset_price.head(3))\n",
    "print('Heads of portfolio weights')\n",
    "print(df_portfolio.head(3))\n",
    "print()\n",
    "print(f\"asset information: {df_asset_info.shape}\\nasset price:{df_asset_price.shape}\\nportfolio weights: {df_portfolio.shape}\")"
   ]
  },
  {
   "cell_type": "code",
   "execution_count": 5,
   "metadata": {},
   "outputs": [
    {
     "data": {
      "text/html": [
       "<div>\n",
       "<style scoped>\n",
       "    .dataframe tbody tr th:only-of-type {\n",
       "        vertical-align: middle;\n",
       "    }\n",
       "\n",
       "    .dataframe tbody tr th {\n",
       "        vertical-align: top;\n",
       "    }\n",
       "\n",
       "    .dataframe thead th {\n",
       "        text-align: right;\n",
       "    }\n",
       "</style>\n",
       "<table border=\"1\" class=\"dataframe\">\n",
       "  <thead>\n",
       "    <tr style=\"text-align: right;\">\n",
       "      <th></th>\n",
       "      <th>count</th>\n",
       "      <th>mean</th>\n",
       "      <th>min</th>\n",
       "      <th>25%</th>\n",
       "      <th>50%</th>\n",
       "      <th>75%</th>\n",
       "      <th>max</th>\n",
       "      <th>std</th>\n",
       "    </tr>\n",
       "  </thead>\n",
       "  <tbody>\n",
       "    <tr>\n",
       "      <th>date</th>\n",
       "      <td>783</td>\n",
       "      <td>2020-07-02 09:33:47.586207232</td>\n",
       "      <td>2019-01-02 00:00:00</td>\n",
       "      <td>2019-10-02 12:00:00</td>\n",
       "      <td>2020-07-02 00:00:00</td>\n",
       "      <td>2021-04-01 12:00:00</td>\n",
       "      <td>2021-12-31 00:00:00</td>\n",
       "      <td>NaN</td>\n",
       "    </tr>\n",
       "    <tr>\n",
       "      <th>Asset1</th>\n",
       "      <td>770.0</td>\n",
       "      <td>248.980188</td>\n",
       "      <td>229.7012</td>\n",
       "      <td>246.86805</td>\n",
       "      <td>250.68535</td>\n",
       "      <td>253.379275</td>\n",
       "      <td>259.11</td>\n",
       "      <td>6.845006</td>\n",
       "    </tr>\n",
       "    <tr>\n",
       "      <th>Asset2</th>\n",
       "      <td>770.0</td>\n",
       "      <td>76.112381</td>\n",
       "      <td>48.516</td>\n",
       "      <td>64.78625</td>\n",
       "      <td>72.003</td>\n",
       "      <td>88.973</td>\n",
       "      <td>104.663</td>\n",
       "      <td>13.642823</td>\n",
       "    </tr>\n",
       "    <tr>\n",
       "      <th>Asset3</th>\n",
       "      <td>770.0</td>\n",
       "      <td>31.473296</td>\n",
       "      <td>22.895066</td>\n",
       "      <td>29.281948</td>\n",
       "      <td>30.651198</td>\n",
       "      <td>33.757265</td>\n",
       "      <td>39.115</td>\n",
       "      <td>3.304415</td>\n",
       "    </tr>\n",
       "    <tr>\n",
       "      <th>Asset4</th>\n",
       "      <td>734.0</td>\n",
       "      <td>327.35688</td>\n",
       "      <td>272.79</td>\n",
       "      <td>318.765</td>\n",
       "      <td>326.665</td>\n",
       "      <td>340.155</td>\n",
       "      <td>345.71</td>\n",
       "      <td>13.487611</td>\n",
       "    </tr>\n",
       "    <tr>\n",
       "      <th>Asset5</th>\n",
       "      <td>763.0</td>\n",
       "      <td>54.123198</td>\n",
       "      <td>37.34</td>\n",
       "      <td>49.12</td>\n",
       "      <td>52.72</td>\n",
       "      <td>59.5</td>\n",
       "      <td>71.05</td>\n",
       "      <td>8.185047</td>\n",
       "    </tr>\n",
       "  </tbody>\n",
       "</table>\n",
       "</div>"
      ],
      "text/plain": [
       "        count                           mean                  min  \\\n",
       "date      783  2020-07-02 09:33:47.586207232  2019-01-02 00:00:00   \n",
       "Asset1  770.0                     248.980188             229.7012   \n",
       "Asset2  770.0                      76.112381               48.516   \n",
       "Asset3  770.0                      31.473296            22.895066   \n",
       "Asset4  734.0                      327.35688               272.79   \n",
       "Asset5  763.0                      54.123198                37.34   \n",
       "\n",
       "                        25%                  50%                  75%  \\\n",
       "date    2019-10-02 12:00:00  2020-07-02 00:00:00  2021-04-01 12:00:00   \n",
       "Asset1            246.86805            250.68535           253.379275   \n",
       "Asset2             64.78625               72.003               88.973   \n",
       "Asset3            29.281948            30.651198            33.757265   \n",
       "Asset4              318.765              326.665              340.155   \n",
       "Asset5                49.12                52.72                 59.5   \n",
       "\n",
       "                        max        std  \n",
       "date    2021-12-31 00:00:00        NaN  \n",
       "Asset1               259.11   6.845006  \n",
       "Asset2              104.663  13.642823  \n",
       "Asset3               39.115   3.304415  \n",
       "Asset4               345.71  13.487611  \n",
       "Asset5                71.05   8.185047  "
      ]
     },
     "execution_count": 5,
     "metadata": {},
     "output_type": "execute_result"
    }
   ],
   "source": [
    "df_asset_price.describe().T"
   ]
  },
  {
   "cell_type": "code",
   "execution_count": 6,
   "metadata": {},
   "outputs": [
    {
     "data": {
      "text/html": [
       "<div>\n",
       "<style scoped>\n",
       "    .dataframe tbody tr th:only-of-type {\n",
       "        vertical-align: middle;\n",
       "    }\n",
       "\n",
       "    .dataframe tbody tr th {\n",
       "        vertical-align: top;\n",
       "    }\n",
       "\n",
       "    .dataframe thead th {\n",
       "        text-align: right;\n",
       "    }\n",
       "</style>\n",
       "<table border=\"1\" class=\"dataframe\">\n",
       "  <thead>\n",
       "    <tr style=\"text-align: right;\">\n",
       "      <th></th>\n",
       "      <th>count</th>\n",
       "      <th>mean</th>\n",
       "      <th>min</th>\n",
       "      <th>25%</th>\n",
       "      <th>50%</th>\n",
       "      <th>75%</th>\n",
       "      <th>max</th>\n",
       "      <th>std</th>\n",
       "    </tr>\n",
       "  </thead>\n",
       "  <tbody>\n",
       "    <tr>\n",
       "      <th>date</th>\n",
       "      <td>783</td>\n",
       "      <td>2020-07-02 09:33:47.586207232</td>\n",
       "      <td>2019-01-02 00:00:00</td>\n",
       "      <td>2019-10-02 12:00:00</td>\n",
       "      <td>2020-07-02 00:00:00</td>\n",
       "      <td>2021-04-01 12:00:00</td>\n",
       "      <td>2021-12-31 00:00:00</td>\n",
       "      <td>NaN</td>\n",
       "    </tr>\n",
       "    <tr>\n",
       "      <th>Asset1</th>\n",
       "      <td>783.0</td>\n",
       "      <td>0.206294</td>\n",
       "      <td>0.071307</td>\n",
       "      <td>0.071307</td>\n",
       "      <td>0.225458</td>\n",
       "      <td>0.321749</td>\n",
       "      <td>0.321749</td>\n",
       "      <td>0.103294</td>\n",
       "    </tr>\n",
       "    <tr>\n",
       "      <th>Asset2</th>\n",
       "      <td>783.0</td>\n",
       "      <td>0.169973</td>\n",
       "      <td>0.116255</td>\n",
       "      <td>0.116255</td>\n",
       "      <td>0.127529</td>\n",
       "      <td>0.266093</td>\n",
       "      <td>0.266093</td>\n",
       "      <td>0.068166</td>\n",
       "    </tr>\n",
       "    <tr>\n",
       "      <th>Asset3</th>\n",
       "      <td>783.0</td>\n",
       "      <td>0.185726</td>\n",
       "      <td>0.123941</td>\n",
       "      <td>0.123941</td>\n",
       "      <td>0.168775</td>\n",
       "      <td>0.265003</td>\n",
       "      <td>0.265003</td>\n",
       "      <td>0.05886</td>\n",
       "    </tr>\n",
       "    <tr>\n",
       "      <th>Asset4</th>\n",
       "      <td>783.0</td>\n",
       "      <td>0.250435</td>\n",
       "      <td>0.185697</td>\n",
       "      <td>0.185697</td>\n",
       "      <td>0.23031</td>\n",
       "      <td>0.33547</td>\n",
       "      <td>0.33547</td>\n",
       "      <td>0.062866</td>\n",
       "    </tr>\n",
       "    <tr>\n",
       "      <th>Asset5</th>\n",
       "      <td>783.0</td>\n",
       "      <td>0.187571</td>\n",
       "      <td>0.158356</td>\n",
       "      <td>0.158356</td>\n",
       "      <td>0.162974</td>\n",
       "      <td>0.241084</td>\n",
       "      <td>0.241084</td>\n",
       "      <td>0.038019</td>\n",
       "    </tr>\n",
       "  </tbody>\n",
       "</table>\n",
       "</div>"
      ],
      "text/plain": [
       "        count                           mean                  min  \\\n",
       "date      783  2020-07-02 09:33:47.586207232  2019-01-02 00:00:00   \n",
       "Asset1  783.0                       0.206294             0.071307   \n",
       "Asset2  783.0                       0.169973             0.116255   \n",
       "Asset3  783.0                       0.185726             0.123941   \n",
       "Asset4  783.0                       0.250435             0.185697   \n",
       "Asset5  783.0                       0.187571             0.158356   \n",
       "\n",
       "                        25%                  50%                  75%  \\\n",
       "date    2019-10-02 12:00:00  2020-07-02 00:00:00  2021-04-01 12:00:00   \n",
       "Asset1             0.071307             0.225458             0.321749   \n",
       "Asset2             0.116255             0.127529             0.266093   \n",
       "Asset3             0.123941             0.168775             0.265003   \n",
       "Asset4             0.185697              0.23031              0.33547   \n",
       "Asset5             0.158356             0.162974             0.241084   \n",
       "\n",
       "                        max       std  \n",
       "date    2021-12-31 00:00:00       NaN  \n",
       "Asset1             0.321749  0.103294  \n",
       "Asset2             0.266093  0.068166  \n",
       "Asset3             0.265003   0.05886  \n",
       "Asset4              0.33547  0.062866  \n",
       "Asset5             0.241084  0.038019  "
      ]
     },
     "execution_count": 6,
     "metadata": {},
     "output_type": "execute_result"
    }
   ],
   "source": [
    "df_portfolio.describe().T"
   ]
  },
  {
   "cell_type": "code",
   "execution_count": 7,
   "metadata": {},
   "outputs": [
    {
     "name": "stdout",
     "output_type": "stream",
     "text": [
      "date      datetime64[ns]\n",
      "Asset1           float64\n",
      "Asset2           float64\n",
      "Asset3           float64\n",
      "Asset4           float64\n",
      "Asset5           float64\n",
      "dtype: object\n",
      "date      datetime64[ns]\n",
      "Asset1           float64\n",
      "Asset2           float64\n",
      "Asset3           float64\n",
      "Asset4           float64\n",
      "Asset5           float64\n",
      "dtype: object\n"
     ]
    }
   ],
   "source": [
    "print(df_asset_price.dtypes)\n",
    "print(df_portfolio.dtypes)"
   ]
  },
  {
   "cell_type": "markdown",
   "metadata": {},
   "source": [
    "Checking for missing values and duplicates"
   ]
  },
  {
   "cell_type": "code",
   "execution_count": 8,
   "metadata": {},
   "outputs": [
    {
     "name": "stdout",
     "output_type": "stream",
     "text": [
      "date       0\n",
      "Asset1    13\n",
      "Asset2    13\n",
      "Asset3    13\n",
      "Asset4    49\n",
      "Asset5    20\n",
      "dtype: int64\n",
      "\n",
      "date      0\n",
      "Asset1    0\n",
      "Asset2    0\n",
      "Asset3    0\n",
      "Asset4    0\n",
      "Asset5    0\n",
      "dtype: int64\n",
      "\n",
      "0\n",
      "0\n"
     ]
    }
   ],
   "source": [
    "print(df_asset_price.isna().sum())\n",
    "print()\n",
    "print(df_portfolio.isna().sum())\n",
    "print()\n",
    "print(df_asset_price.duplicated().sum())\n",
    "print(df_portfolio.duplicated().sum())"
   ]
  },
  {
   "cell_type": "code",
   "execution_count": 9,
   "metadata": {},
   "outputs": [
    {
     "data": {
      "text/html": [
       "<div>\n",
       "<style scoped>\n",
       "    .dataframe tbody tr th:only-of-type {\n",
       "        vertical-align: middle;\n",
       "    }\n",
       "\n",
       "    .dataframe tbody tr th {\n",
       "        vertical-align: top;\n",
       "    }\n",
       "\n",
       "    .dataframe thead th {\n",
       "        text-align: right;\n",
       "    }\n",
       "</style>\n",
       "<table border=\"1\" class=\"dataframe\">\n",
       "  <thead>\n",
       "    <tr style=\"text-align: right;\">\n",
       "      <th></th>\n",
       "      <th>date</th>\n",
       "      <th>Asset1</th>\n",
       "      <th>Asset2</th>\n",
       "      <th>Asset3</th>\n",
       "      <th>Asset4</th>\n",
       "      <th>Asset5</th>\n",
       "    </tr>\n",
       "  </thead>\n",
       "  <tbody>\n",
       "    <tr>\n",
       "      <th>516</th>\n",
       "      <td>2020-12-24</td>\n",
       "      <td>257.6842</td>\n",
       "      <td>80.577</td>\n",
       "      <td>30.550118</td>\n",
       "      <td>336.74</td>\n",
       "      <td>NaN</td>\n",
       "    </tr>\n",
       "    <tr>\n",
       "      <th>217</th>\n",
       "      <td>2019-11-01</td>\n",
       "      <td>250.0916</td>\n",
       "      <td>67.347</td>\n",
       "      <td>31.444331</td>\n",
       "      <td>NaN</td>\n",
       "      <td>51.81</td>\n",
       "    </tr>\n",
       "    <tr>\n",
       "      <th>223</th>\n",
       "      <td>2019-11-11</td>\n",
       "      <td>247.2335</td>\n",
       "      <td>67.836</td>\n",
       "      <td>31.960659</td>\n",
       "      <td>NaN</td>\n",
       "      <td>51.83</td>\n",
       "    </tr>\n",
       "    <tr>\n",
       "      <th>363</th>\n",
       "      <td>2020-05-25</td>\n",
       "      <td>247.5321</td>\n",
       "      <td>65.633</td>\n",
       "      <td>28.159191</td>\n",
       "      <td>NaN</td>\n",
       "      <td>41.31</td>\n",
       "    </tr>\n",
       "    <tr>\n",
       "      <th>693</th>\n",
       "      <td>2021-08-30</td>\n",
       "      <td>254.3572</td>\n",
       "      <td>99.017</td>\n",
       "      <td>36.804895</td>\n",
       "      <td>NaN</td>\n",
       "      <td>66.23</td>\n",
       "    </tr>\n",
       "  </tbody>\n",
       "</table>\n",
       "</div>"
      ],
      "text/plain": [
       "          date    Asset1  Asset2     Asset3  Asset4  Asset5\n",
       "516 2020-12-24  257.6842  80.577  30.550118  336.74     NaN\n",
       "217 2019-11-01  250.0916  67.347  31.444331     NaN   51.81\n",
       "223 2019-11-11  247.2335  67.836  31.960659     NaN   51.83\n",
       "363 2020-05-25  247.5321  65.633  28.159191     NaN   41.31\n",
       "693 2021-08-30  254.3572  99.017  36.804895     NaN   66.23"
      ]
     },
     "execution_count": 9,
     "metadata": {},
     "output_type": "execute_result"
    }
   ],
   "source": [
    "df_nulls = df_asset_price[df_asset_price.isna().any(axis=1)]\n",
    "df_nulls.sample(5)"
   ]
  },
  {
   "cell_type": "markdown",
   "metadata": {},
   "source": [
    "Getting rid of NaNs using forward fill method, assuming that the last known value persists until a new one is available"
   ]
  },
  {
   "cell_type": "code",
   "execution_count": 10,
   "metadata": {},
   "outputs": [
    {
     "data": {
      "text/html": [
       "<div>\n",
       "<style scoped>\n",
       "    .dataframe tbody tr th:only-of-type {\n",
       "        vertical-align: middle;\n",
       "    }\n",
       "\n",
       "    .dataframe tbody tr th {\n",
       "        vertical-align: top;\n",
       "    }\n",
       "\n",
       "    .dataframe thead th {\n",
       "        text-align: right;\n",
       "    }\n",
       "</style>\n",
       "<table border=\"1\" class=\"dataframe\">\n",
       "  <thead>\n",
       "    <tr style=\"text-align: right;\">\n",
       "      <th></th>\n",
       "      <th>date</th>\n",
       "      <th>Asset1</th>\n",
       "      <th>Asset2</th>\n",
       "      <th>Asset3</th>\n",
       "      <th>Asset4</th>\n",
       "      <th>Asset5</th>\n",
       "    </tr>\n",
       "  </thead>\n",
       "  <tbody>\n",
       "  </tbody>\n",
       "</table>\n",
       "</div>"
      ],
      "text/plain": [
       "Empty DataFrame\n",
       "Columns: [date, Asset1, Asset2, Asset3, Asset4, Asset5]\n",
       "Index: []"
      ]
     },
     "execution_count": 10,
     "metadata": {},
     "output_type": "execute_result"
    }
   ],
   "source": [
    "df_asset_price = df_asset_price.fillna(method='ffill')\n",
    "df_asset_price[df_asset_price.isna().any(axis=1)]"
   ]
  },
  {
   "cell_type": "markdown",
   "metadata": {},
   "source": [
    "Converting date column into index"
   ]
  },
  {
   "cell_type": "code",
   "execution_count": 11,
   "metadata": {},
   "outputs": [],
   "source": [
    "df_asset_price = df_asset_price.set_index('date')\n",
    "df_portfolio = df_portfolio.set_index('date')\n"
   ]
  },
  {
   "cell_type": "code",
   "execution_count": 12,
   "metadata": {},
   "outputs": [
    {
     "data": {
      "text/plain": [
       "DatetimeIndex(['2019-01-02', '2019-01-03', '2019-01-04', '2019-01-07',\n",
       "               '2019-01-08', '2019-01-09', '2019-01-10', '2019-01-11',\n",
       "               '2019-01-14', '2019-01-15',\n",
       "               ...\n",
       "               '2021-12-20', '2021-12-21', '2021-12-22', '2021-12-23',\n",
       "               '2021-12-24', '2021-12-27', '2021-12-28', '2021-12-29',\n",
       "               '2021-12-30', '2021-12-31'],\n",
       "              dtype='datetime64[ns]', name='date', length=783, freq=None)"
      ]
     },
     "execution_count": 12,
     "metadata": {},
     "output_type": "execute_result"
    }
   ],
   "source": [
    "# index check up\n",
    "df_asset_price.index\n",
    "df_portfolio.index"
   ]
  },
  {
   "cell_type": "markdown",
   "metadata": {},
   "source": [
    "<h1 style=\"color: #FF8C00;\">Exercise 2: Daily Percentage Returns</h1>\n",
    "\n",
    "---\n",
    "\n",
    "You are required to calculate the daily percentage returns for each financial asset. Utilize this data to accomplish the following:\n",
    "- Calculate the correlation matrix for the five assets.\n",
    "- Create a scatter plot comparing the returns of two specific assets."
   ]
  },
  {
   "cell_type": "markdown",
   "metadata": {},
   "source": [
    "<h2 style=\"color: #FF6347;\">Daily Returns Calculation.</h2>"
   ]
  },
  {
   "cell_type": "code",
   "execution_count": 13,
   "metadata": {},
   "outputs": [
    {
     "name": "stdout",
     "output_type": "stream",
     "text": [
      "              Asset1    Asset2    Asset3    Asset4    Asset5\n",
      "date                                                        \n",
      "2019-01-02       NaN       NaN       NaN       NaN       NaN\n",
      "2019-01-03 -0.203234 -1.607159 -0.569902 -0.270690 -0.943211\n",
      "2019-01-04 -0.273984  2.095422  2.525524 -0.112542  1.924221\n",
      "2019-01-07 -0.151170  1.263162 -0.733753  0.185572  1.479175\n",
      "2019-01-08 -0.153486  0.100285  0.703977  0.360533 -0.019179\n",
      "...              ...       ...       ...       ...       ...\n",
      "2021-12-27 -0.091306  0.738415  0.543901  0.000000  1.344319\n",
      "2021-12-28  0.006442  0.548309  0.759918  0.000000 -0.114106\n",
      "2021-12-29 -0.486243 -0.158812 -0.664707  0.017523 -0.314151\n",
      "2021-12-30 -0.069556  0.290341  0.334577  0.026280  0.143246\n",
      "2021-12-31  0.082881 -0.532184  0.051302  0.011677  0.000000\n",
      "\n",
      "[783 rows x 5 columns]\n"
     ]
    }
   ],
   "source": [
    "df_asset_price\n",
    "df_daily_return = df_asset_price.pct_change()*100\n",
    "print(df_daily_return)\n",
    "\n",
    "# bug check up with the first value of the first row\n",
    "# print(\"2019-01-02, Asset1:\", df_asset_price.loc['2019-01-02', 'Asset1'])\n",
    "# print(\"2019-01-03, Asset1:\", df_asset_price.loc['2019-01-03', 'Asset1'])\n",
    "\n",
    "\n",
    "# Using loop\n",
    "# df_daily_return = pd.DataFrame(columns=df_asset_price.columns, index=df_asset_price.index)\n",
    "# df_daily_return\n",
    "\n",
    "# df_daily_return.iloc[0, :] = np.nan\n",
    "\n",
    "# for i in range(1,df_asset_price.shape[0]):\n",
    "#   for j in range(df_asset_price.shape[1]):\n",
    "#     # daily return in percentage\n",
    "#     df_daily_return.iloc[i,j] = 100* (df_asset_price.iloc[i,j]/df_asset_price.iloc[i-1,j] - 1)\n",
    "\n",
    "# df_daily_return"
   ]
  },
  {
   "cell_type": "markdown",
   "metadata": {},
   "source": [
    "Let's choose the Assets that have the smallest correlation to avoid redundancy and observe somewhat different distributions"
   ]
  },
  {
   "cell_type": "markdown",
   "metadata": {},
   "source": [
    "<h2 style=\"color: #FF6347;\">Correlation Matrix Calculation.</h2>"
   ]
  },
  {
   "cell_type": "code",
   "execution_count": 14,
   "metadata": {},
   "outputs": [
    {
     "data": {
      "image/png": "[encoded data removed]",
      "text/plain": [
       "<Figure size 640x480 with 2 Axes>"
      ]
     },
     "metadata": {},
     "output_type": "display_data"
    }
   ],
   "source": [
    "dr_corr = df_daily_return.corr()\n",
    "\n",
    "# heatmap\n",
    "sns.heatmap(dr_corr, annot=True, cmap='coolwarm', fmt=\".2f\")\n",
    "plt.title(\"Correlation Heatmap of daily returns'\")\n",
    "plt.show()"
   ]
  },
  {
   "cell_type": "markdown",
   "metadata": {
    "tags": []
   },
   "source": [
    "<h2 style=\"color: #FF6347;\">Scatter Plot between the Returns of Two Assets.</h2>"
   ]
  },
  {
   "cell_type": "code",
   "execution_count": 15,
   "metadata": {},
   "outputs": [
    {
     "data": {
      "image/png": "[encoded data removed]",
      "text/plain": [
       "<Figure size 1200x500 with 2 Axes>"
      ]
     },
     "metadata": {},
     "output_type": "display_data"
    }
   ],
   "source": [
    "fig, axes = plt.subplots(ncols=2, figsize=(12, 5))\n",
    "\n",
    "# Scatter plot for the Asset1\n",
    "axes[0].scatter(df_daily_return.index, df_daily_return['Asset1'], color='#FF5233')\n",
    "axes[0].set_title('Scatter Plot: Date vs Asset1')\n",
    "axes[0].set_xlabel('Date')\n",
    "axes[0].set_ylabel('Asset1')\n",
    "axes[0].tick_params(axis='x', rotation=45)\n",
    "\n",
    "\n",
    "# Scatter plot for the Asset5\n",
    "axes[1].scatter(df_daily_return.index, df_daily_return['Asset5'], color='#084C61')\n",
    "axes[1].set_title('Scatter Plot: Date vs Asset5')\n",
    "axes[1].set_xlabel('Date')\n",
    "axes[1].set_ylabel('Asset5')\n",
    "axes[1].tick_params(axis='x', rotation=45)\n",
    "\n",
    "plt.tight_layout()\n",
    "plt.show()"
   ]
  },
  {
   "cell_type": "markdown",
   "metadata": {},
   "source": [
    "<h1 style=\"color: #FF8C00;\">Exercise 3: Portfolio Analysis</h1>\n",
    "\n",
    "---\n",
    "\n",
    "This third exercise focuses on calculating and analyzing the performance of a portfolio. Begin by loading the file named `portfolio_weights.csv`, which contains the daily weights of each asset in the portfolio.\n",
    "\n",
    "To complete the exercise, you will need to perform the following tasks:\n",
    "- Create an area chart of the asset weights.\n",
    "- Plot the historical cumulative returns of the portfolio.\n",
    "- Calculate the annualized return of the portfolio.\n",
    "- Determine the annualized volatility of the portfolio (using an annualization factor of 261 days).\n",
    "- Produce an area chart grouping asset weights by their categories, as detailed in the `asset_information_data.csv`."
   ]
  },
  {
   "cell_type": "markdown",
   "metadata": {
    "tags": []
   },
   "source": [
    "<h2 style=\"color: #FF6347;\">Area Chart of Asset Weights.</h2>"
   ]
  },
  {
   "cell_type": "code",
   "execution_count": 16,
   "metadata": {},
   "outputs": [
    {
     "data": {
      "image/png": "[encoded data removed]",
      "text/plain": [
       "<Figure size 1200x600 with 1 Axes>"
      ]
     },
     "metadata": {},
     "output_type": "display_data"
    }
   ],
   "source": [
    "# custom colors - visual grouping per family\n",
    "colors = ['#FF5233','#F374AE','#DADFF7','#A0C1D1','#084C61']\n",
    "\n",
    "# area chart\n",
    "area_c = df_portfolio.plot.area(figsize=(12, 6), color=colors) \n",
    "\n",
    "for collection in area_c.collections:\n",
    "    collection.set_edgecolor(\"none\")\n",
    "\n",
    "area_c.legend(loc='upper right')\n",
    "plt.title(\"Portfolio Weights Distribution over 2019-2021\")\n",
    "plt.xlabel(\"Date\")\n",
    "plt.ylabel(\"Portfolio Weights\")\n",
    "plt.show()\n"
   ]
  },
  {
   "cell_type": "markdown",
   "metadata": {
    "tags": []
   },
   "source": [
    "<h2 style=\"color: #FF6347;\">Chart of Historical Cumulative Returns of the Portfolio.</h2>"
   ]
  },
  {
   "cell_type": "code",
   "execution_count": null,
   "metadata": {},
   "outputs": [
    {
     "name": "stdout",
     "output_type": "stream",
     "text": [
      "              Asset1     Asset2     Asset3     Asset4     Asset5\n",
      "date                                                            \n",
      "2019-01-02       NaN        NaN        NaN        NaN        NaN\n",
      "2019-01-03 -0.203234  -1.607159  -0.569902  -0.270690  -0.943211\n",
      "2019-01-04 -0.476661   0.454586   1.941229  -0.382927   0.962861\n",
      "2019-01-07 -0.627111   1.723490   1.193232  -0.198066   2.456278\n",
      "2019-01-08 -0.779634   1.825503   1.905610   0.161754   2.436628\n",
      "...              ...        ...        ...        ...        ...\n",
      "2021-12-27  7.954261  86.051007  51.349617  13.029413  37.767734\n",
      "2021-12-28  7.961216  87.071141  52.499749  13.029413  37.610533\n",
      "2021-12-29  7.436262  86.774049  51.486073  13.049219  37.178228\n",
      "2021-12-30  7.361534  87.316331  51.992911  13.078929  37.374730\n",
      "2021-12-31  7.450516  86.319463  52.070887  13.092133  37.374730\n",
      "\n",
      "[783 rows x 5 columns]\n",
      "              Asset1    Asset2    Asset3    Asset4    Asset5\n",
      "date                                                        \n",
      "2019-01-02       NaN       NaN       NaN       NaN       NaN\n",
      "2019-01-03 -0.203234 -1.607159 -0.569902 -0.270690 -0.943211\n",
      "2019-01-04 -0.273984  2.095422  2.525524 -0.112542  1.924221\n",
      "2019-01-07 -0.151170  1.263162 -0.733753  0.185572  1.479175\n",
      "2019-01-08 -0.153486  0.100285  0.703977  0.360533 -0.019179\n",
      "...              ...       ...       ...       ...       ...\n",
      "2021-12-27 -0.091306  0.738415  0.543901  0.000000  1.344319\n",
      "2021-12-28  0.006442  0.548309  0.759918  0.000000 -0.114106\n",
      "2021-12-29 -0.486243 -0.158812 -0.664707  0.017523 -0.314151\n",
      "2021-12-30 -0.069556  0.290341  0.334577  0.026280  0.143246\n",
      "2021-12-31  0.082881 -0.532184  0.051302  0.011677  0.000000\n",
      "\n",
      "[783 rows x 5 columns]\n"
     ]
    },
    {
     "data": {
      "text/plain": [
       "array([0.22545796, 0.1162548 , 0.26500323, 0.23030958, 0.16297443])"
      ]
     },
     "execution_count": 25,
     "metadata": {},
     "output_type": "execute_result"
    }
   ],
   "source": [
    "# Cumulative return per asset\n",
    "df_cumulative = pd.DataFrame(index=df_daily_return.index, columns=df_daily_return.columns)\n",
    "\n",
    "for asset in df_daily_return.columns:\n",
    "    df_cumulative[asset] = ((1 + df_daily_return[asset] / 100).cumprod() - 1)*100 # converting back to percentages\n",
    "\n",
    "# comparison quick check \n",
    "print(df_cumulative)\n",
    "print(df_daily_return)\n",
    "\n",
    "# Total cumulative return\n",
    "# take weights into account - readjusted each year\n",
    "weights_2019 = df_portfolio.loc['2019-01-02'].values\n",
    "weights_2020 = df_portfolio.loc['2020-01-01'].values\n",
    "weights_2021 = df_portfolio.loc['2021-01-01'].values\n",
    "\n",
    "# multiply assets by weights and insert in formula\n",
    "# 2019\n",
    "# portfolio_daily_return = (df_daily_return/100).dot(weights_2019)\n"
   ]
  },
  {
   "cell_type": "markdown",
   "metadata": {
    "tags": []
   },
   "source": [
    "<h2 style=\"color: #FF6347;\">Annualized Return.</h2>\n",
    "<h3 style=\"color: #FF6347;\">-- Insert your code here --</h3>"
   ]
  },
  {
   "cell_type": "code",
   "execution_count": null,
   "metadata": {},
   "outputs": [],
   "source": []
  },
  {
   "cell_type": "markdown",
   "metadata": {
    "tags": []
   },
   "source": [
    "<h2 style=\"color: #FF6347;\">Annualized Volatility.</h2>\n",
    "<h3 style=\"color: #FF6347;\">-- Insert your code here --</h3>"
   ]
  },
  {
   "cell_type": "code",
   "execution_count": null,
   "metadata": {},
   "outputs": [],
   "source": []
  },
  {
   "cell_type": "markdown",
   "metadata": {
    "tags": []
   },
   "source": [
    "<h2 style=\"color: #FF6347;\">Area Chart of Asset Weights Grouped by Family.</h2>\n",
    "<h3 style=\"color: #FF6347;\">-- Insert your code here --</h3>"
   ]
  },
  {
   "cell_type": "code",
   "execution_count": null,
   "metadata": {},
   "outputs": [],
   "source": []
  }
 ],
 "metadata": {
  "colab": {
   "provenance": [
    {
     "file_id": "1fHXMQvsfUK6jFCwgFlCA_WDoSXI7rzN4",
     "timestamp": 1698662695337
    },
    {
     "file_id": "1OX3IZEGgfyEzu1luFVYojAIp89lVkPmw",
     "timestamp": 1691153287206
    }
   ]
  },
  "kernelspec": {
   "display_name": "base",
   "language": "python",
   "name": "python3"
  },
  "language_info": {
   "codemirror_mode": {
    "name": "ipython",
    "version": 3
   },
   "file_extension": ".py",
   "mimetype": "text/x-python",
   "name": "python",
   "nbconvert_exporter": "python",
   "pygments_lexer": "ipython3",
   "version": "3.12.4"
  }
 },
 "nbformat": 4,
 "nbformat_minor": 4
}
